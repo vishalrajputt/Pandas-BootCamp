{
 "cells":[
  {
   "cell_type":"code",
   "source":[
    "import pandas as pd\n",
    "import numpy as np"
   ],
   "execution_count":13,
   "outputs":[
    
   ],
   "metadata":{
    "datalore":{
     "node_id":"pYgLuS1WLM4N2R4v5ofLGl",
     "type":"CODE",
     "hide_input_from_viewers":false,
     "hide_output_from_viewers":false
    }
   }
  },
  {
   "cell_type":"markdown",
   "source":[
    "**`Series`** In Pandas"
   ],
   "attachments":{
    
   },
   "metadata":{
    "datalore":{
     "node_id":"NNvy7xEcGPEiRhiwg8PUXb",
     "type":"MD",
     "hide_input_from_viewers":false,
     "hide_output_from_viewers":false
    }
   }
  },
  {
   "cell_type":"code",
   "source":[
    "pd.Series(data=[1,2,3,4,5],index=['a','b','c','d','e'])"
   ],
   "execution_count":51,
   "outputs":[
    {
     "data":{
      "text\/html":[
       "<pre>a    1\n",
       "b    2\n",
       "c    3\n",
       "d    4\n",
       "e    5\n",
       "dtype: int64<\/pre>"
      ]
     },
     "metadata":{
      
     },
     "output_type":"display_data"
    }
   ],
   "metadata":{
    "datalore":{
     "node_id":"ZVRrbcHCQnHVfAFdNNppO3",
     "type":"CODE",
     "hide_input_from_viewers":false,
     "hide_output_from_viewers":false
    }
   }
  },
  {
   "cell_type":"code",
   "source":[
    "myD= {'e':20,'f':200,'g':2000,'h':15}"
   ],
   "execution_count":52,
   "outputs":[
    
   ],
   "metadata":{
    "datalore":{
     "node_id":"PAlBIH9lJiENzdtyashIMF",
     "type":"CODE",
     "hide_input_from_viewers":false,
     "hide_output_from_viewers":false
    }
   }
  },
  {
   "cell_type":"code",
   "source":[
    "pd.Series(myD)"
   ],
   "execution_count":53,
   "outputs":[
    {
     "data":{
      "text\/html":[
       "<pre>e      20\n",
       "f     200\n",
       "g    2000\n",
       "h      15\n",
       "dtype: int64<\/pre>"
      ]
     },
     "metadata":{
      
     },
     "output_type":"display_data"
    }
   ],
   "metadata":{
    "datalore":{
     "node_id":"seFK53SFVMALZB4NE5JCLM",
     "type":"CODE",
     "hide_input_from_viewers":false,
     "hide_output_from_viewers":false
    }
   }
  },
  {
   "cell_type":"code",
   "source":[
    "s1 = pd.Series([1,2,3,4,5],['a','b','c','d','e'])"
   ],
   "execution_count":54,
   "outputs":[
    
   ],
   "metadata":{
    "datalore":{
     "node_id":"2P5PTkBErBXIKAcIN3fvnx",
     "type":"CODE",
     "hide_input_from_viewers":false,
     "hide_output_from_viewers":false
    }
   }
  },
  {
   "cell_type":"code",
   "source":[
    "s2 = pd.Series([1,2,3,4,5],['a','b','c','f','e'])"
   ],
   "execution_count":55,
   "outputs":[
    
   ],
   "metadata":{
    "datalore":{
     "node_id":"1pYk2kjtBLgBEE5dnb3d2i",
     "type":"CODE",
     "hide_input_from_viewers":false,
     "hide_output_from_viewers":false
    }
   }
  },
  {
   "cell_type":"code",
   "source":[
    "s1+s2"
   ],
   "execution_count":56,
   "outputs":[
    {
     "data":{
      "text\/html":[
       "<pre>a     2.0\n",
       "b     4.0\n",
       "c     6.0\n",
       "d     NaN\n",
       "e    10.0\n",
       "f     NaN\n",
       "dtype: float64<\/pre>"
      ]
     },
     "metadata":{
      
     },
     "output_type":"display_data"
    }
   ],
   "metadata":{
    "datalore":{
     "node_id":"g9bDPxaK2fQs5JCFBcZsQC",
     "type":"CODE",
     "hide_input_from_viewers":false,
     "hide_output_from_viewers":false
    }
   }
  },
  {
   "cell_type":"markdown",
   "source":[
    "**`Data-Frames`** in Pandas"
   ],
   "attachments":{
    
   },
   "metadata":{
    "datalore":{
     "node_id":"9ls5wwklxjPJA5aGN7jIOg",
     "type":"MD",
     "hide_input_from_viewers":false,
     "hide_output_from_viewers":false
    }
   }
  },
  {
   "cell_type":"code",
   "source":[
    "from numpy.random import randn"
   ],
   "execution_count":2,
   "outputs":[
    
   ],
   "metadata":{
    "datalore":{
     "node_id":"sZod4FpUviglicdT09a1Cq",
     "type":"CODE",
     "hide_input_from_viewers":false,
     "hide_output_from_viewers":false
    }
   }
  },
  {
   "cell_type":"code",
   "source":[
    "data = randn(3,4)\n",
    "data"
   ],
   "execution_count":58,
   "outputs":[
    {
     "data":{
      "text\/html":[
       "<pre>array([[-0.6937991 , -0.57542982, -1.64783235,  2.17160449],\n",
       "       [-0.98077031,  0.86494998,  2.48747657,  0.46727958],\n",
       "       [ 0.55757768, -1.17154752, -2.05079558,  2.42932034]])<\/pre>"
      ]
     },
     "metadata":{
      
     },
     "output_type":"display_data"
    }
   ],
   "metadata":{
    "datalore":{
     "node_id":"gt6gbFlMf642o6r1xcAnxk",
     "type":"CODE",
     "hide_input_from_viewers":false,
     "hide_output_from_viewers":false
    }
   }
  },
  {
   "cell_type":"code",
   "source":[
    "df = pd.DataFrame(data,['R1','R2','R3'],['C1','C2','C3','C4'])#R1=Row,C1=Column\n",
    "df #we are passing above generated data into above to make dataframe"
   ],
   "execution_count":59,
   "outputs":[
    {
     "data":{
      "text\/html":[
       "<div>\n",
       "<style scoped>\n",
       "    .dataframe tbody tr th:only-of-type {\n",
       "        vertical-align: middle;\n",
       "    }\n",
       "\n",
       "    .dataframe tbody tr th {\n",
       "        vertical-align: top;\n",
       "    }\n",
       "\n",
       "    .dataframe thead th {\n",
       "        text-align: right;\n",
       "    }\n",
       "<\/style>\n",
       "<table border=\"1\" class=\"dataframe\">\n",
       "  <thead>\n",
       "    <tr style=\"text-align: right;\">\n",
       "      <th><\/th>\n",
       "      <th>C1<\/th>\n",
       "      <th>C2<\/th>\n",
       "      <th>C3<\/th>\n",
       "      <th>C4<\/th>\n",
       "    <\/tr>\n",
       "  <\/thead>\n",
       "  <tbody>\n",
       "    <tr>\n",
       "      <th>R1<\/th>\n",
       "      <td>-0.693799<\/td>\n",
       "      <td>-0.575430<\/td>\n",
       "      <td>-1.647832<\/td>\n",
       "      <td>2.171604<\/td>\n",
       "    <\/tr>\n",
       "    <tr>\n",
       "      <th>R2<\/th>\n",
       "      <td>-0.980770<\/td>\n",
       "      <td>0.864950<\/td>\n",
       "      <td>2.487477<\/td>\n",
       "      <td>0.467280<\/td>\n",
       "    <\/tr>\n",
       "    <tr>\n",
       "      <th>R3<\/th>\n",
       "      <td>0.557578<\/td>\n",
       "      <td>-1.171548<\/td>\n",
       "      <td>-2.050796<\/td>\n",
       "      <td>2.429320<\/td>\n",
       "    <\/tr>\n",
       "  <\/tbody>\n",
       "<\/table>\n",
       "<\/div>"
      ]
     },
     "metadata":{
      
     },
     "output_type":"display_data"
    }
   ],
   "metadata":{
    "datalore":{
     "node_id":"qFzrnPxTdKuQczTzLt88Zl",
     "type":"CODE",
     "hide_input_from_viewers":false,
     "hide_output_from_viewers":false
    }
   }
  },
  {
   "cell_type":"code",
   "source":[
    "df['C1']"
   ],
   "execution_count":60,
   "outputs":[
    {
     "data":{
      "text\/html":[
       "<pre>R1   -0.693799\n",
       "R2   -0.980770\n",
       "R3    0.557578\n",
       "Name: C1, dtype: float64<\/pre>"
      ]
     },
     "metadata":{
      
     },
     "output_type":"display_data"
    }
   ],
   "metadata":{
    "datalore":{
     "node_id":"Q306bBxFBUAcPTxOaxU0YE",
     "type":"CODE",
     "hide_input_from_viewers":false,
     "hide_output_from_viewers":false
    }
   }
  },
  {
   "cell_type":"code",
   "source":[
    "df[['C1','C3']]"
   ],
   "execution_count":61,
   "outputs":[
    {
     "data":{
      "text\/html":[
       "<div>\n",
       "<style scoped>\n",
       "    .dataframe tbody tr th:only-of-type {\n",
       "        vertical-align: middle;\n",
       "    }\n",
       "\n",
       "    .dataframe tbody tr th {\n",
       "        vertical-align: top;\n",
       "    }\n",
       "\n",
       "    .dataframe thead th {\n",
       "        text-align: right;\n",
       "    }\n",
       "<\/style>\n",
       "<table border=\"1\" class=\"dataframe\">\n",
       "  <thead>\n",
       "    <tr style=\"text-align: right;\">\n",
       "      <th><\/th>\n",
       "      <th>C1<\/th>\n",
       "      <th>C3<\/th>\n",
       "    <\/tr>\n",
       "  <\/thead>\n",
       "  <tbody>\n",
       "    <tr>\n",
       "      <th>R1<\/th>\n",
       "      <td>-0.693799<\/td>\n",
       "      <td>-1.647832<\/td>\n",
       "    <\/tr>\n",
       "    <tr>\n",
       "      <th>R2<\/th>\n",
       "      <td>-0.980770<\/td>\n",
       "      <td>2.487477<\/td>\n",
       "    <\/tr>\n",
       "    <tr>\n",
       "      <th>R3<\/th>\n",
       "      <td>0.557578<\/td>\n",
       "      <td>-2.050796<\/td>\n",
       "    <\/tr>\n",
       "  <\/tbody>\n",
       "<\/table>\n",
       "<\/div>"
      ]
     },
     "metadata":{
      
     },
     "output_type":"display_data"
    }
   ],
   "metadata":{
    "datalore":{
     "node_id":"DtMJydEpl0jRLT8pTVAijk",
     "type":"CODE",
     "hide_input_from_viewers":false,
     "hide_output_from_viewers":false
    }
   }
  },
  {
   "cell_type":"markdown",
   "source":[
    "**`Operations`** on **`(df)`** - Dataframe using pandas"
   ],
   "attachments":{
    
   },
   "metadata":{
    "datalore":{
     "node_id":"rueGxQScgOVIKKelsX3SJu",
     "type":"MD",
     "hide_input_from_viewers":false,
     "hide_output_from_viewers":false
    }
   }
  },
  {
   "cell_type":"code",
   "source":[
    "df['C5'] = df['C1']*df['C3']  #we have added new columnc C5\n",
    "#df['C1']*df['C3']  here we are doing multiplication to get values in C5"
   ],
   "execution_count":62,
   "outputs":[
    
   ],
   "metadata":{
    "datalore":{
     "node_id":"jRuQniCBOMobBGctrO1idL",
     "type":"CODE",
     "hide_input_from_viewers":false,
     "hide_output_from_viewers":false
    }
   }
  },
  {
   "cell_type":"code",
   "source":[
    "df"
   ],
   "execution_count":63,
   "outputs":[
    {
     "data":{
      "text\/html":[
       "<div>\n",
       "<style scoped>\n",
       "    .dataframe tbody tr th:only-of-type {\n",
       "        vertical-align: middle;\n",
       "    }\n",
       "\n",
       "    .dataframe tbody tr th {\n",
       "        vertical-align: top;\n",
       "    }\n",
       "\n",
       "    .dataframe thead th {\n",
       "        text-align: right;\n",
       "    }\n",
       "<\/style>\n",
       "<table border=\"1\" class=\"dataframe\">\n",
       "  <thead>\n",
       "    <tr style=\"text-align: right;\">\n",
       "      <th><\/th>\n",
       "      <th>C1<\/th>\n",
       "      <th>C2<\/th>\n",
       "      <th>C3<\/th>\n",
       "      <th>C4<\/th>\n",
       "      <th>C5<\/th>\n",
       "    <\/tr>\n",
       "  <\/thead>\n",
       "  <tbody>\n",
       "    <tr>\n",
       "      <th>R1<\/th>\n",
       "      <td>-0.693799<\/td>\n",
       "      <td>-0.575430<\/td>\n",
       "      <td>-1.647832<\/td>\n",
       "      <td>2.171604<\/td>\n",
       "      <td>1.143265<\/td>\n",
       "    <\/tr>\n",
       "    <tr>\n",
       "      <th>R2<\/th>\n",
       "      <td>-0.980770<\/td>\n",
       "      <td>0.864950<\/td>\n",
       "      <td>2.487477<\/td>\n",
       "      <td>0.467280<\/td>\n",
       "      <td>-2.439643<\/td>\n",
       "    <\/tr>\n",
       "    <tr>\n",
       "      <th>R3<\/th>\n",
       "      <td>0.557578<\/td>\n",
       "      <td>-1.171548<\/td>\n",
       "      <td>-2.050796<\/td>\n",
       "      <td>2.429320<\/td>\n",
       "      <td>-1.143478<\/td>\n",
       "    <\/tr>\n",
       "  <\/tbody>\n",
       "<\/table>\n",
       "<\/div>"
      ]
     },
     "metadata":{
      
     },
     "output_type":"display_data"
    }
   ],
   "metadata":{
    "datalore":{
     "node_id":"jop5rwh4w9kOmvrZLQvIkT",
     "type":"CODE",
     "hide_input_from_viewers":false,
     "hide_output_from_viewers":false
    }
   }
  },
  {
   "cell_type":"markdown",
   "source":[
    "**`Delete`** any Value"
   ],
   "attachments":{
    
   },
   "metadata":{
    "datalore":{
     "node_id":"5d9T76SZirI1ZjFFKt8DhL",
     "type":"MD",
     "hide_input_from_viewers":false,
     "hide_output_from_viewers":false
    }
   }
  },
  {
   "cell_type":"code",
   "source":[
    "df.drop('C3',axis=1,inplace=True)  "
   ],
   "execution_count":64,
   "outputs":[
    
   ],
   "metadata":{
    "datalore":{
     "node_id":"eHKP2DKPxL5gCeKCVzpP0n",
     "type":"CODE",
     "hide_input_from_viewers":false,
     "hide_output_from_viewers":false
    }
   }
  },
  {
   "cell_type":"markdown",
   "source":[
    "In **`drop`** statement first we have to pass the **`column`** **`label`** then **`axis`** means **`top to bottom`** after that **`inplace`**= **`True`** is for to make the changes **`permanently`** so it will\n",
    "reflect in the data "
   ],
   "attachments":{
    
   },
   "metadata":{
    "datalore":{
     "node_id":"FL9WerYi6sooScp6kY7kO5",
     "type":"MD",
     "hide_input_from_viewers":false,
     "hide_output_from_viewers":false
    }
   }
  },
  {
   "cell_type":"markdown",
   "source":[
    "**`Axis = 1`** means column and **`Axis = 0`** means rows"
   ],
   "attachments":{
    
   },
   "metadata":{
    "datalore":{
     "node_id":"YCISzr0nQQV1JxMOX9Zgv9",
     "type":"MD",
     "hide_input_from_viewers":false,
     "hide_output_from_viewers":false
    }
   }
  },
  {
   "cell_type":"code",
   "source":[
    "df"
   ],
   "execution_count":65,
   "outputs":[
    {
     "data":{
      "text\/html":[
       "<div>\n",
       "<style scoped>\n",
       "    .dataframe tbody tr th:only-of-type {\n",
       "        vertical-align: middle;\n",
       "    }\n",
       "\n",
       "    .dataframe tbody tr th {\n",
       "        vertical-align: top;\n",
       "    }\n",
       "\n",
       "    .dataframe thead th {\n",
       "        text-align: right;\n",
       "    }\n",
       "<\/style>\n",
       "<table border=\"1\" class=\"dataframe\">\n",
       "  <thead>\n",
       "    <tr style=\"text-align: right;\">\n",
       "      <th><\/th>\n",
       "      <th>C1<\/th>\n",
       "      <th>C2<\/th>\n",
       "      <th>C4<\/th>\n",
       "      <th>C5<\/th>\n",
       "    <\/tr>\n",
       "  <\/thead>\n",
       "  <tbody>\n",
       "    <tr>\n",
       "      <th>R1<\/th>\n",
       "      <td>-0.693799<\/td>\n",
       "      <td>-0.575430<\/td>\n",
       "      <td>2.171604<\/td>\n",
       "      <td>1.143265<\/td>\n",
       "    <\/tr>\n",
       "    <tr>\n",
       "      <th>R2<\/th>\n",
       "      <td>-0.980770<\/td>\n",
       "      <td>0.864950<\/td>\n",
       "      <td>0.467280<\/td>\n",
       "      <td>-2.439643<\/td>\n",
       "    <\/tr>\n",
       "    <tr>\n",
       "      <th>R3<\/th>\n",
       "      <td>0.557578<\/td>\n",
       "      <td>-1.171548<\/td>\n",
       "      <td>2.429320<\/td>\n",
       "      <td>-1.143478<\/td>\n",
       "    <\/tr>\n",
       "  <\/tbody>\n",
       "<\/table>\n",
       "<\/div>"
      ]
     },
     "metadata":{
      
     },
     "output_type":"display_data"
    }
   ],
   "metadata":{
    "datalore":{
     "node_id":"PpzboLZEvNV6GpLg6VhugF",
     "type":"CODE",
     "hide_input_from_viewers":false,
     "hide_output_from_viewers":false
    }
   }
  },
  {
   "cell_type":"markdown",
   "source":[
    "**` Sub-Selecting`** using Pandas"
   ],
   "attachments":{
    
   },
   "metadata":{
    "datalore":{
     "node_id":"ZWJl6vp21S1yAiNh7faKfG",
     "type":"MD",
     "hide_input_from_viewers":false,
     "hide_output_from_viewers":false
    }
   }
  },
  {
   "cell_type":"code",
   "source":[
    "df.loc['R2'] # we are selecting the raw using row name"
   ],
   "execution_count":66,
   "outputs":[
    {
     "data":{
      "text\/html":[
       "<pre>C1   -0.980770\n",
       "C2    0.864950\n",
       "C4    0.467280\n",
       "C5   -2.439643\n",
       "Name: R2, dtype: float64<\/pre>"
      ]
     },
     "metadata":{
      
     },
     "output_type":"display_data"
    }
   ],
   "metadata":{
    "datalore":{
     "node_id":"4a8u6cV1ufM49khzZYx6rb",
     "type":"CODE",
     "hide_input_from_viewers":false,
     "hide_output_from_viewers":false
    }
   }
  },
  {
   "cell_type":"code",
   "source":[
    "df.iloc[1] #we are selecting the raw using raw index number"
   ],
   "execution_count":37,
   "outputs":[
    {
     "data":{
      "text\/html":[
       "<pre>C1   -1.147631\n",
       "C2   -0.004783\n",
       "C4   -0.368070\n",
       "C5   -0.106721\n",
       "Name: R2, dtype: float64<\/pre>"
      ]
     },
     "metadata":{
      
     },
     "output_type":"display_data"
    }
   ],
   "metadata":{
    "datalore":{
     "node_id":"AODP5OxSd47asDmS42oXLT",
     "type":"CODE",
     "hide_input_from_viewers":false,
     "hide_output_from_viewers":false
    }
   }
  },
  {
   "cell_type":"code",
   "source":[
    "df.loc[['R1','R2'],['C4','C5']]  #we are sub-selecting the raw and column \n",
    "#using raw-label and column-label"
   ],
   "execution_count":44,
   "outputs":[
    {
     "data":{
      "text\/html":[
       "<div>\n",
       "<style scoped>\n",
       "    .dataframe tbody tr th:only-of-type {\n",
       "        vertical-align: middle;\n",
       "    }\n",
       "\n",
       "    .dataframe tbody tr th {\n",
       "        vertical-align: top;\n",
       "    }\n",
       "\n",
       "    .dataframe thead th {\n",
       "        text-align: right;\n",
       "    }\n",
       "<\/style>\n",
       "<table border=\"1\" class=\"dataframe\">\n",
       "  <thead>\n",
       "    <tr style=\"text-align: right;\">\n",
       "      <th><\/th>\n",
       "      <th>C4<\/th>\n",
       "      <th>C5<\/th>\n",
       "    <\/tr>\n",
       "  <\/thead>\n",
       "  <tbody>\n",
       "    <tr>\n",
       "      <th>R1<\/th>\n",
       "      <td>0.238796<\/td>\n",
       "      <td>0.534125<\/td>\n",
       "    <\/tr>\n",
       "    <tr>\n",
       "      <th>R2<\/th>\n",
       "      <td>-0.368070<\/td>\n",
       "      <td>-0.106721<\/td>\n",
       "    <\/tr>\n",
       "  <\/tbody>\n",
       "<\/table>\n",
       "<\/div>"
      ]
     },
     "metadata":{
      
     },
     "output_type":"display_data"
    }
   ],
   "metadata":{
    "datalore":{
     "node_id":"exIHi8bZB22TvGN1G3OPdn",
     "type":"CODE",
     "hide_input_from_viewers":false,
     "hide_output_from_viewers":false
    }
   }
  },
  {
   "cell_type":"code",
   "source":[
    "df.loc[['R2','R3'],['C1','C2']]"
   ],
   "execution_count":45,
   "outputs":[
    {
     "data":{
      "text\/html":[
       "<div>\n",
       "<style scoped>\n",
       "    .dataframe tbody tr th:only-of-type {\n",
       "        vertical-align: middle;\n",
       "    }\n",
       "\n",
       "    .dataframe tbody tr th {\n",
       "        vertical-align: top;\n",
       "    }\n",
       "\n",
       "    .dataframe thead th {\n",
       "        text-align: right;\n",
       "    }\n",
       "<\/style>\n",
       "<table border=\"1\" class=\"dataframe\">\n",
       "  <thead>\n",
       "    <tr style=\"text-align: right;\">\n",
       "      <th><\/th>\n",
       "      <th>C1<\/th>\n",
       "      <th>C2<\/th>\n",
       "    <\/tr>\n",
       "  <\/thead>\n",
       "  <tbody>\n",
       "    <tr>\n",
       "      <th>R2<\/th>\n",
       "      <td>-1.147631<\/td>\n",
       "      <td>-0.004783<\/td>\n",
       "    <\/tr>\n",
       "    <tr>\n",
       "      <th>R3<\/th>\n",
       "      <td>-0.447842<\/td>\n",
       "      <td>0.506948<\/td>\n",
       "    <\/tr>\n",
       "  <\/tbody>\n",
       "<\/table>\n",
       "<\/div>"
      ]
     },
     "metadata":{
      
     },
     "output_type":"display_data"
    }
   ],
   "metadata":{
    "datalore":{
     "node_id":"jDWTPwI6vNMiJrqy6JIWad",
     "type":"CODE",
     "hide_input_from_viewers":false,
     "hide_output_from_viewers":false
    }
   }
  },
  {
   "cell_type":"code",
   "source":[
    "df.loc[['R1','R2'],['C1','C2']]"
   ],
   "execution_count":46,
   "outputs":[
    {
     "data":{
      "text\/html":[
       "<div>\n",
       "<style scoped>\n",
       "    .dataframe tbody tr th:only-of-type {\n",
       "        vertical-align: middle;\n",
       "    }\n",
       "\n",
       "    .dataframe tbody tr th {\n",
       "        vertical-align: top;\n",
       "    }\n",
       "\n",
       "    .dataframe thead th {\n",
       "        text-align: right;\n",
       "    }\n",
       "<\/style>\n",
       "<table border=\"1\" class=\"dataframe\">\n",
       "  <thead>\n",
       "    <tr style=\"text-align: right;\">\n",
       "      <th><\/th>\n",
       "      <th>C1<\/th>\n",
       "      <th>C2<\/th>\n",
       "    <\/tr>\n",
       "  <\/thead>\n",
       "  <tbody>\n",
       "    <tr>\n",
       "      <th>R1<\/th>\n",
       "      <td>-0.589213<\/td>\n",
       "      <td>0.266584<\/td>\n",
       "    <\/tr>\n",
       "    <tr>\n",
       "      <th>R2<\/th>\n",
       "      <td>-1.147631<\/td>\n",
       "      <td>-0.004783<\/td>\n",
       "    <\/tr>\n",
       "  <\/tbody>\n",
       "<\/table>\n",
       "<\/div>"
      ]
     },
     "metadata":{
      
     },
     "output_type":"display_data"
    }
   ],
   "metadata":{
    "datalore":{
     "node_id":"vhm2zKWF9SjLhQYVTLPSk2",
     "type":"CODE",
     "hide_input_from_viewers":false,
     "hide_output_from_viewers":false
    }
   }
  },
  {
   "cell_type":"markdown",
   "source":[
    "**`Conditional`** selection in **`PANDAS`**"
   ],
   "attachments":{
    
   },
   "metadata":{
    "datalore":{
     "node_id":"PGCif2rnWMAg0jJinbsRsP",
     "type":"MD",
     "hide_input_from_viewers":false,
     "hide_output_from_viewers":false
    }
   }
  },
  {
   "cell_type":"code",
   "source":[
    "df"
   ],
   "execution_count":47,
   "outputs":[
    {
     "data":{
      "text\/html":[
       "<div>\n",
       "<style scoped>\n",
       "    .dataframe tbody tr th:only-of-type {\n",
       "        vertical-align: middle;\n",
       "    }\n",
       "\n",
       "    .dataframe tbody tr th {\n",
       "        vertical-align: top;\n",
       "    }\n",
       "\n",
       "    .dataframe thead th {\n",
       "        text-align: right;\n",
       "    }\n",
       "<\/style>\n",
       "<table border=\"1\" class=\"dataframe\">\n",
       "  <thead>\n",
       "    <tr style=\"text-align: right;\">\n",
       "      <th><\/th>\n",
       "      <th>C1<\/th>\n",
       "      <th>C2<\/th>\n",
       "      <th>C4<\/th>\n",
       "      <th>C5<\/th>\n",
       "    <\/tr>\n",
       "  <\/thead>\n",
       "  <tbody>\n",
       "    <tr>\n",
       "      <th>R1<\/th>\n",
       "      <td>-0.589213<\/td>\n",
       "      <td>0.266584<\/td>\n",
       "      <td>0.238796<\/td>\n",
       "      <td>0.534125<\/td>\n",
       "    <\/tr>\n",
       "    <tr>\n",
       "      <th>R2<\/th>\n",
       "      <td>-1.147631<\/td>\n",
       "      <td>-0.004783<\/td>\n",
       "      <td>-0.368070<\/td>\n",
       "      <td>-0.106721<\/td>\n",
       "    <\/tr>\n",
       "    <tr>\n",
       "      <th>R3<\/th>\n",
       "      <td>-0.447842<\/td>\n",
       "      <td>0.506948<\/td>\n",
       "      <td>-0.705706<\/td>\n",
       "      <td>0.265943<\/td>\n",
       "    <\/tr>\n",
       "  <\/tbody>\n",
       "<\/table>\n",
       "<\/div>"
      ]
     },
     "metadata":{
      
     },
     "output_type":"display_data"
    }
   ],
   "metadata":{
    "datalore":{
     "node_id":"mfmTHdbBnSVy2KCWOf3Sr0",
     "type":"CODE",
     "hide_input_from_viewers":false,
     "hide_output_from_viewers":false
    }
   }
  },
  {
   "cell_type":"code",
   "source":[
    "df>0"
   ],
   "execution_count":48,
   "outputs":[
    {
     "data":{
      "text\/html":[
       "<div>\n",
       "<style scoped>\n",
       "    .dataframe tbody tr th:only-of-type {\n",
       "        vertical-align: middle;\n",
       "    }\n",
       "\n",
       "    .dataframe tbody tr th {\n",
       "        vertical-align: top;\n",
       "    }\n",
       "\n",
       "    .dataframe thead th {\n",
       "        text-align: right;\n",
       "    }\n",
       "<\/style>\n",
       "<table border=\"1\" class=\"dataframe\">\n",
       "  <thead>\n",
       "    <tr style=\"text-align: right;\">\n",
       "      <th><\/th>\n",
       "      <th>C1<\/th>\n",
       "      <th>C2<\/th>\n",
       "      <th>C4<\/th>\n",
       "      <th>C5<\/th>\n",
       "    <\/tr>\n",
       "  <\/thead>\n",
       "  <tbody>\n",
       "    <tr>\n",
       "      <th>R1<\/th>\n",
       "      <td>False<\/td>\n",
       "      <td>True<\/td>\n",
       "      <td>True<\/td>\n",
       "      <td>True<\/td>\n",
       "    <\/tr>\n",
       "    <tr>\n",
       "      <th>R2<\/th>\n",
       "      <td>False<\/td>\n",
       "      <td>False<\/td>\n",
       "      <td>False<\/td>\n",
       "      <td>False<\/td>\n",
       "    <\/tr>\n",
       "    <tr>\n",
       "      <th>R3<\/th>\n",
       "      <td>False<\/td>\n",
       "      <td>True<\/td>\n",
       "      <td>False<\/td>\n",
       "      <td>True<\/td>\n",
       "    <\/tr>\n",
       "  <\/tbody>\n",
       "<\/table>\n",
       "<\/div>"
      ]
     },
     "metadata":{
      
     },
     "output_type":"display_data"
    }
   ],
   "metadata":{
    "datalore":{
     "node_id":"QrVwEcjzdbdqX0wJgpZPoy",
     "type":"CODE",
     "hide_input_from_viewers":false,
     "hide_output_from_viewers":false
    }
   }
  },
  {
   "cell_type":"code",
   "source":[
    "df[df>0] # to get data in values but in the place of the false the values will be NaN"
   ],
   "execution_count":50,
   "outputs":[
    {
     "data":{
      "text\/html":[
       "<div>\n",
       "<style scoped>\n",
       "    .dataframe tbody tr th:only-of-type {\n",
       "        vertical-align: middle;\n",
       "    }\n",
       "\n",
       "    .dataframe tbody tr th {\n",
       "        vertical-align: top;\n",
       "    }\n",
       "\n",
       "    .dataframe thead th {\n",
       "        text-align: right;\n",
       "    }\n",
       "<\/style>\n",
       "<table border=\"1\" class=\"dataframe\">\n",
       "  <thead>\n",
       "    <tr style=\"text-align: right;\">\n",
       "      <th><\/th>\n",
       "      <th>C1<\/th>\n",
       "      <th>C2<\/th>\n",
       "      <th>C4<\/th>\n",
       "      <th>C5<\/th>\n",
       "    <\/tr>\n",
       "  <\/thead>\n",
       "  <tbody>\n",
       "    <tr>\n",
       "      <th>R1<\/th>\n",
       "      <td>NaN<\/td>\n",
       "      <td>0.266584<\/td>\n",
       "      <td>0.238796<\/td>\n",
       "      <td>0.534125<\/td>\n",
       "    <\/tr>\n",
       "    <tr>\n",
       "      <th>R2<\/th>\n",
       "      <td>NaN<\/td>\n",
       "      <td>NaN<\/td>\n",
       "      <td>NaN<\/td>\n",
       "      <td>NaN<\/td>\n",
       "    <\/tr>\n",
       "    <tr>\n",
       "      <th>R3<\/th>\n",
       "      <td>NaN<\/td>\n",
       "      <td>0.506948<\/td>\n",
       "      <td>NaN<\/td>\n",
       "      <td>0.265943<\/td>\n",
       "    <\/tr>\n",
       "  <\/tbody>\n",
       "<\/table>\n",
       "<\/div>"
      ]
     },
     "metadata":{
      
     },
     "output_type":"display_data"
    }
   ],
   "metadata":{
    "datalore":{
     "node_id":"JvPWG5AjCwxTF9tLwxCByv",
     "type":"CODE",
     "hide_input_from_viewers":false,
     "hide_output_from_viewers":false
    }
   }
  },
  {
   "cell_type":"code",
   "source":[
    "df[df['C5']>0] #you don't get null values you will get the real data R2 has null so it will not show"
   ],
   "execution_count":57,
   "outputs":[
    {
     "data":{
      "text\/html":[
       "<div>\n",
       "<style scoped>\n",
       "    .dataframe tbody tr th:only-of-type {\n",
       "        vertical-align: middle;\n",
       "    }\n",
       "\n",
       "    .dataframe tbody tr th {\n",
       "        vertical-align: top;\n",
       "    }\n",
       "\n",
       "    .dataframe thead th {\n",
       "        text-align: right;\n",
       "    }\n",
       "<\/style>\n",
       "<table border=\"1\" class=\"dataframe\">\n",
       "  <thead>\n",
       "    <tr style=\"text-align: right;\">\n",
       "      <th><\/th>\n",
       "      <th>C1<\/th>\n",
       "      <th>C2<\/th>\n",
       "      <th>C4<\/th>\n",
       "      <th>C5<\/th>\n",
       "    <\/tr>\n",
       "  <\/thead>\n",
       "  <tbody>\n",
       "    <tr>\n",
       "      <th>R1<\/th>\n",
       "      <td>-0.589213<\/td>\n",
       "      <td>0.266584<\/td>\n",
       "      <td>0.238796<\/td>\n",
       "      <td>0.534125<\/td>\n",
       "    <\/tr>\n",
       "    <tr>\n",
       "      <th>R3<\/th>\n",
       "      <td>-0.447842<\/td>\n",
       "      <td>0.506948<\/td>\n",
       "      <td>-0.705706<\/td>\n",
       "      <td>0.265943<\/td>\n",
       "    <\/tr>\n",
       "  <\/tbody>\n",
       "<\/table>\n",
       "<\/div>"
      ]
     },
     "metadata":{
      
     },
     "output_type":"display_data"
    }
   ],
   "metadata":{
    "datalore":{
     "node_id":"jHzCAtqAWzs6aY9ecZKIvG",
     "type":"CODE",
     "hide_input_from_viewers":false,
     "hide_output_from_viewers":false
    }
   }
  },
  {
   "cell_type":"markdown",
   "source":[
    "\n",
    "**`Multiple conditions`** in PANDAS"
   ],
   "attachments":{
    
   },
   "metadata":{
    "datalore":{
     "node_id":"lylM5brkz5m2lzbE4UsqYF",
     "type":"MD",
     "hide_input_from_viewers":false,
     "hide_output_from_viewers":false
    }
   }
  },
  {
   "cell_type":"code",
   "source":[
    "df"
   ],
   "execution_count":21,
   "outputs":[
    {
     "data":{
      "text\/html":[
       "<div>\n",
       "<style scoped>\n",
       "    .dataframe tbody tr th:only-of-type {\n",
       "        vertical-align: middle;\n",
       "    }\n",
       "\n",
       "    .dataframe tbody tr th {\n",
       "        vertical-align: top;\n",
       "    }\n",
       "\n",
       "    .dataframe thead th {\n",
       "        text-align: right;\n",
       "    }\n",
       "<\/style>\n",
       "<table border=\"1\" class=\"dataframe\">\n",
       "  <thead>\n",
       "    <tr style=\"text-align: right;\">\n",
       "      <th><\/th>\n",
       "      <th>C1<\/th>\n",
       "      <th>C2<\/th>\n",
       "      <th>C4<\/th>\n",
       "      <th>C5<\/th>\n",
       "    <\/tr>\n",
       "  <\/thead>\n",
       "  <tbody>\n",
       "    <tr>\n",
       "      <th>R1<\/th>\n",
       "      <td>0.002261<\/td>\n",
       "      <td>-2.506065<\/td>\n",
       "      <td>-0.503512<\/td>\n",
       "      <td>0.002229<\/td>\n",
       "    <\/tr>\n",
       "    <tr>\n",
       "      <th>R2<\/th>\n",
       "      <td>-0.458841<\/td>\n",
       "      <td>-0.280618<\/td>\n",
       "      <td>0.725865<\/td>\n",
       "      <td>0.190506<\/td>\n",
       "    <\/tr>\n",
       "    <tr>\n",
       "      <th>R3<\/th>\n",
       "      <td>1.520365<\/td>\n",
       "      <td>-0.116605<\/td>\n",
       "      <td>-1.913849<\/td>\n",
       "      <td>-0.935613<\/td>\n",
       "    <\/tr>\n",
       "  <\/tbody>\n",
       "<\/table>\n",
       "<\/div>"
      ]
     },
     "metadata":{
      
     },
     "output_type":"display_data"
    }
   ],
   "metadata":{
    "datalore":{
     "node_id":"yG3K12pIN5v1tqQuhq3vNc",
     "type":"CODE",
     "hide_input_from_viewers":false,
     "hide_output_from_viewers":false
    }
   }
  },
  {
   "cell_type":"code",
   "source":[
    "df[df['C1']>0]"
   ],
   "execution_count":22,
   "outputs":[
    {
     "data":{
      "text\/html":[
       "<div>\n",
       "<style scoped>\n",
       "    .dataframe tbody tr th:only-of-type {\n",
       "        vertical-align: middle;\n",
       "    }\n",
       "\n",
       "    .dataframe tbody tr th {\n",
       "        vertical-align: top;\n",
       "    }\n",
       "\n",
       "    .dataframe thead th {\n",
       "        text-align: right;\n",
       "    }\n",
       "<\/style>\n",
       "<table border=\"1\" class=\"dataframe\">\n",
       "  <thead>\n",
       "    <tr style=\"text-align: right;\">\n",
       "      <th><\/th>\n",
       "      <th>C1<\/th>\n",
       "      <th>C2<\/th>\n",
       "      <th>C4<\/th>\n",
       "      <th>C5<\/th>\n",
       "    <\/tr>\n",
       "  <\/thead>\n",
       "  <tbody>\n",
       "    <tr>\n",
       "      <th>R1<\/th>\n",
       "      <td>0.002261<\/td>\n",
       "      <td>-2.506065<\/td>\n",
       "      <td>-0.503512<\/td>\n",
       "      <td>0.002229<\/td>\n",
       "    <\/tr>\n",
       "    <tr>\n",
       "      <th>R3<\/th>\n",
       "      <td>1.520365<\/td>\n",
       "      <td>-0.116605<\/td>\n",
       "      <td>-1.913849<\/td>\n",
       "      <td>-0.935613<\/td>\n",
       "    <\/tr>\n",
       "  <\/tbody>\n",
       "<\/table>\n",
       "<\/div>"
      ]
     },
     "metadata":{
      
     },
     "output_type":"display_data"
    }
   ],
   "metadata":{
    "datalore":{
     "node_id":"UIefYGinreY7VFfck5273T",
     "type":"CODE",
     "hide_input_from_viewers":false,
     "hide_output_from_viewers":false
    }
   }
  },
  {
   "cell_type":"code",
   "source":[
    "df[(df['C5']>0) & (df['C4']>0)]"
   ],
   "execution_count":27,
   "outputs":[
    {
     "data":{
      "text\/html":[
       "<div>\n",
       "<style scoped>\n",
       "    .dataframe tbody tr th:only-of-type {\n",
       "        vertical-align: middle;\n",
       "    }\n",
       "\n",
       "    .dataframe tbody tr th {\n",
       "        vertical-align: top;\n",
       "    }\n",
       "\n",
       "    .dataframe thead th {\n",
       "        text-align: right;\n",
       "    }\n",
       "<\/style>\n",
       "<table border=\"1\" class=\"dataframe\">\n",
       "  <thead>\n",
       "    <tr style=\"text-align: right;\">\n",
       "      <th><\/th>\n",
       "      <th>C1<\/th>\n",
       "      <th>C2<\/th>\n",
       "      <th>C4<\/th>\n",
       "      <th>C5<\/th>\n",
       "    <\/tr>\n",
       "  <\/thead>\n",
       "  <tbody>\n",
       "    <tr>\n",
       "      <th>R2<\/th>\n",
       "      <td>-0.458841<\/td>\n",
       "      <td>-0.280618<\/td>\n",
       "      <td>0.725865<\/td>\n",
       "      <td>0.190506<\/td>\n",
       "    <\/tr>\n",
       "  <\/tbody>\n",
       "<\/table>\n",
       "<\/div>"
      ]
     },
     "metadata":{
      
     },
     "output_type":"display_data"
    }
   ],
   "metadata":{
    "datalore":{
     "node_id":"lUf01CvypodVjjNofvRNqn",
     "type":"CODE",
     "hide_input_from_viewers":false,
     "hide_output_from_viewers":false
    }
   }
  },
  {
   "cell_type":"code",
   "source":[
    "df"
   ],
   "execution_count":28,
   "outputs":[
    {
     "data":{
      "text\/html":[
       "<div>\n",
       "<style scoped>\n",
       "    .dataframe tbody tr th:only-of-type {\n",
       "        vertical-align: middle;\n",
       "    }\n",
       "\n",
       "    .dataframe tbody tr th {\n",
       "        vertical-align: top;\n",
       "    }\n",
       "\n",
       "    .dataframe thead th {\n",
       "        text-align: right;\n",
       "    }\n",
       "<\/style>\n",
       "<table border=\"1\" class=\"dataframe\">\n",
       "  <thead>\n",
       "    <tr style=\"text-align: right;\">\n",
       "      <th><\/th>\n",
       "      <th>C1<\/th>\n",
       "      <th>C2<\/th>\n",
       "      <th>C4<\/th>\n",
       "      <th>C5<\/th>\n",
       "    <\/tr>\n",
       "  <\/thead>\n",
       "  <tbody>\n",
       "    <tr>\n",
       "      <th>R1<\/th>\n",
       "      <td>0.002261<\/td>\n",
       "      <td>-2.506065<\/td>\n",
       "      <td>-0.503512<\/td>\n",
       "      <td>0.002229<\/td>\n",
       "    <\/tr>\n",
       "    <tr>\n",
       "      <th>R2<\/th>\n",
       "      <td>-0.458841<\/td>\n",
       "      <td>-0.280618<\/td>\n",
       "      <td>0.725865<\/td>\n",
       "      <td>0.190506<\/td>\n",
       "    <\/tr>\n",
       "    <tr>\n",
       "      <th>R3<\/th>\n",
       "      <td>1.520365<\/td>\n",
       "      <td>-0.116605<\/td>\n",
       "      <td>-1.913849<\/td>\n",
       "      <td>-0.935613<\/td>\n",
       "    <\/tr>\n",
       "  <\/tbody>\n",
       "<\/table>\n",
       "<\/div>"
      ]
     },
     "metadata":{
      
     },
     "output_type":"display_data"
    }
   ],
   "metadata":{
    "datalore":{
     "node_id":"7zRKuwZtNFSZdQd0BJNX8T",
     "type":"CODE",
     "hide_input_from_viewers":false,
     "hide_output_from_viewers":false
    }
   }
  },
  {
   "cell_type":"code",
   "source":[
    "new_index=['row1','row2','row3']"
   ],
   "execution_count":47,
   "outputs":[
    
   ],
   "metadata":{
    "datalore":{
     "node_id":"VngZaWdPMKGb4Jv7wwOGEc",
     "type":"CODE",
     "hide_input_from_viewers":false,
     "hide_output_from_viewers":false
    }
   }
  },
  {
   "cell_type":"code",
   "source":[
    "df['new_index']=new_index\n",
    "df"
   ],
   "execution_count":48,
   "outputs":[
    {
     "data":{
      "text\/html":[
       "<div>\n",
       "<style scoped>\n",
       "    .dataframe tbody tr th:only-of-type {\n",
       "        vertical-align: middle;\n",
       "    }\n",
       "\n",
       "    .dataframe tbody tr th {\n",
       "        vertical-align: top;\n",
       "    }\n",
       "\n",
       "    .dataframe thead th {\n",
       "        text-align: right;\n",
       "    }\n",
       "<\/style>\n",
       "<table border=\"1\" class=\"dataframe\">\n",
       "  <thead>\n",
       "    <tr style=\"text-align: right;\">\n",
       "      <th><\/th>\n",
       "      <th>col_1<\/th>\n",
       "      <th>col3<\/th>\n",
       "      <th>col3<\/th>\n",
       "      <th>col4<\/th>\n",
       "      <th>new_index<\/th>\n",
       "      <th>newindex<\/th>\n",
       "    <\/tr>\n",
       "  <\/thead>\n",
       "  <tbody>\n",
       "    <tr>\n",
       "      <th>R1<\/th>\n",
       "      <td>0.002261<\/td>\n",
       "      <td>-2.506065<\/td>\n",
       "      <td>-0.503512<\/td>\n",
       "      <td>0.002229<\/td>\n",
       "      <td>row1<\/td>\n",
       "      <td>row1<\/td>\n",
       "    <\/tr>\n",
       "    <tr>\n",
       "      <th>R2<\/th>\n",
       "      <td>-0.458841<\/td>\n",
       "      <td>-0.280618<\/td>\n",
       "      <td>0.725865<\/td>\n",
       "      <td>0.190506<\/td>\n",
       "      <td>row2<\/td>\n",
       "      <td>row2<\/td>\n",
       "    <\/tr>\n",
       "    <tr>\n",
       "      <th>R3<\/th>\n",
       "      <td>1.520365<\/td>\n",
       "      <td>-0.116605<\/td>\n",
       "      <td>-1.913849<\/td>\n",
       "      <td>-0.935613<\/td>\n",
       "      <td>row3<\/td>\n",
       "      <td>row3<\/td>\n",
       "    <\/tr>\n",
       "  <\/tbody>\n",
       "<\/table>\n",
       "<\/div>"
      ]
     },
     "metadata":{
      
     },
     "output_type":"display_data"
    }
   ],
   "metadata":{
    "datalore":{
     "node_id":"a4rGyYCjKcCsJPZ9j9ZlQq",
     "type":"CODE",
     "hide_input_from_viewers":false,
     "hide_output_from_viewers":false
    }
   }
  },
  {
   "cell_type":"code",
   "source":[
    "df.set_index('new_index')"
   ],
   "execution_count":44,
   "outputs":[
    {
     "data":{
      "text\/html":[
       "<div>\n",
       "<style scoped>\n",
       "    .dataframe tbody tr th:only-of-type {\n",
       "        vertical-align: middle;\n",
       "    }\n",
       "\n",
       "    .dataframe tbody tr th {\n",
       "        vertical-align: top;\n",
       "    }\n",
       "\n",
       "    .dataframe thead th {\n",
       "        text-align: right;\n",
       "    }\n",
       "<\/style>\n",
       "<table border=\"1\" class=\"dataframe\">\n",
       "  <thead>\n",
       "    <tr style=\"text-align: right;\">\n",
       "      <th><\/th>\n",
       "      <th>col_1<\/th>\n",
       "      <th>col3<\/th>\n",
       "      <th>col3<\/th>\n",
       "      <th>col4<\/th>\n",
       "      <th>newindex<\/th>\n",
       "    <\/tr>\n",
       "    <tr>\n",
       "      <th>new_index<\/th>\n",
       "      <th><\/th>\n",
       "      <th><\/th>\n",
       "      <th><\/th>\n",
       "      <th><\/th>\n",
       "      <th><\/th>\n",
       "    <\/tr>\n",
       "  <\/thead>\n",
       "  <tbody>\n",
       "    <tr>\n",
       "      <th>row1<\/th>\n",
       "      <td>0.002261<\/td>\n",
       "      <td>-2.506065<\/td>\n",
       "      <td>-0.503512<\/td>\n",
       "      <td>0.002229<\/td>\n",
       "      <td>row1<\/td>\n",
       "    <\/tr>\n",
       "    <tr>\n",
       "      <th>row2<\/th>\n",
       "      <td>-0.458841<\/td>\n",
       "      <td>-0.280618<\/td>\n",
       "      <td>0.725865<\/td>\n",
       "      <td>0.190506<\/td>\n",
       "      <td>row2<\/td>\n",
       "    <\/tr>\n",
       "    <tr>\n",
       "      <th>row3<\/th>\n",
       "      <td>1.520365<\/td>\n",
       "      <td>-0.116605<\/td>\n",
       "      <td>-1.913849<\/td>\n",
       "      <td>-0.935613<\/td>\n",
       "      <td>row3<\/td>\n",
       "    <\/tr>\n",
       "  <\/tbody>\n",
       "<\/table>\n",
       "<\/div>"
      ]
     },
     "metadata":{
      
     },
     "output_type":"display_data"
    }
   ],
   "metadata":{
    "datalore":{
     "node_id":"KwurdhEj8fYQbCvhz6PVvQ",
     "type":"CODE",
     "hide_input_from_viewers":false,
     "hide_output_from_viewers":false
    }
   }
  },
  {
   "cell_type":"code",
   "source":[
    "df.rename(columns={'C1':'col_1','C2':'col3','C4':'col3','C5':'col4'})"
   ],
   "execution_count":68,
   "outputs":[
    {
     "data":{
      "text\/html":[
       "<div>\n",
       "<style scoped>\n",
       "    .dataframe tbody tr th:only-of-type {\n",
       "        vertical-align: middle;\n",
       "    }\n",
       "\n",
       "    .dataframe tbody tr th {\n",
       "        vertical-align: top;\n",
       "    }\n",
       "\n",
       "    .dataframe thead th {\n",
       "        text-align: right;\n",
       "    }\n",
       "<\/style>\n",
       "<table border=\"1\" class=\"dataframe\">\n",
       "  <thead>\n",
       "    <tr style=\"text-align: right;\">\n",
       "      <th><\/th>\n",
       "      <th>col_1<\/th>\n",
       "      <th>col3<\/th>\n",
       "      <th>col3<\/th>\n",
       "      <th>col4<\/th>\n",
       "    <\/tr>\n",
       "  <\/thead>\n",
       "  <tbody>\n",
       "    <tr>\n",
       "      <th>R1<\/th>\n",
       "      <td>-0.693799<\/td>\n",
       "      <td>-0.575430<\/td>\n",
       "      <td>2.171604<\/td>\n",
       "      <td>1.143265<\/td>\n",
       "    <\/tr>\n",
       "    <tr>\n",
       "      <th>R2<\/th>\n",
       "      <td>-0.980770<\/td>\n",
       "      <td>0.864950<\/td>\n",
       "      <td>0.467280<\/td>\n",
       "      <td>-2.439643<\/td>\n",
       "    <\/tr>\n",
       "    <tr>\n",
       "      <th>R3<\/th>\n",
       "      <td>0.557578<\/td>\n",
       "      <td>-1.171548<\/td>\n",
       "      <td>2.429320<\/td>\n",
       "      <td>-1.143478<\/td>\n",
       "    <\/tr>\n",
       "  <\/tbody>\n",
       "<\/table>\n",
       "<\/div>"
      ]
     },
     "metadata":{
      
     },
     "output_type":"display_data"
    }
   ],
   "metadata":{
    "datalore":{
     "node_id":"4ZgT5UDjswTQ0FfPfciWVb",
     "type":"CODE",
     "hide_input_from_viewers":false,
     "hide_output_from_viewers":false
    }
   }
  },
  {
   "cell_type":"markdown",
   "source":[
    
   ],
   "attachments":{
    
   },
   "metadata":{
    "datalore":{
     "node_id":"ZzIwHmQ4wvAcxrFmHCKYFT",
     "type":"MD",
     "hide_input_from_viewers":false,
     "hide_output_from_viewers":false
    }
   }
  },
  {
   "cell_type":"markdown",
   "source":[
    " Basics of **`datacleanup`**"
   ],
   "attachments":{
    
   },
   "metadata":{
    "datalore":{
     "node_id":"nVT9qe9yJNUgHVTMaVkuxJ",
     "type":"MD",
     "hide_input_from_viewers":false,
     "hide_output_from_viewers":false
    }
   }
  },
  {
   "cell_type":"code",
   "source":[
    "mydata = {'me':[3,5,np.nan],'f1':[4,np.nan,np.nan],'f2':[3,5,4]}"
   ],
   "execution_count":3,
   "outputs":[
    
   ],
   "metadata":{
    "datalore":{
     "node_id":"Pk98WVHxS4AZiwclqWY6aA",
     "type":"CODE",
     "hide_input_from_viewers":false,
     "hide_output_from_viewers":false
    }
   }
  },
  {
   "cell_type":"code",
   "source":[
    "mydata"
   ],
   "execution_count":4,
   "outputs":[
    {
     "data":{
      "text\/plain":[
       "{'me': [3, 5, nan], 'f1': [4, nan, nan], 'f2': [3, 5, 4]}"
      ]
     },
     "metadata":{
      
     },
     "output_type":"display_data"
    }
   ],
   "metadata":{
    "datalore":{
     "node_id":"F8e39pKc3oSSEabQnmnJgR",
     "type":"CODE",
     "hide_input_from_viewers":false,
     "hide_output_from_viewers":false
    }
   }
  },
  {
   "cell_type":"code",
   "source":[
    "mydataframe=pd.DataFrame(mydata)"
   ],
   "execution_count":5,
   "outputs":[
    
   ],
   "metadata":{
    "datalore":{
     "node_id":"w6xTwYcyQqboJdCIFXSeOy",
     "type":"CODE",
     "hide_input_from_viewers":false,
     "hide_output_from_viewers":false
    }
   }
  },
  {
   "cell_type":"code",
   "source":[
    "mydataframe"
   ],
   "execution_count":6,
   "outputs":[
    {
     "data":{
      "text\/html":[
       "<div>\n",
       "<style scoped>\n",
       "    .dataframe tbody tr th:only-of-type {\n",
       "        vertical-align: middle;\n",
       "    }\n",
       "\n",
       "    .dataframe tbody tr th {\n",
       "        vertical-align: top;\n",
       "    }\n",
       "\n",
       "    .dataframe thead th {\n",
       "        text-align: right;\n",
       "    }\n",
       "<\/style>\n",
       "<table border=\"1\" class=\"dataframe\">\n",
       "  <thead>\n",
       "    <tr style=\"text-align: right;\">\n",
       "      <th><\/th>\n",
       "      <th>me<\/th>\n",
       "      <th>f1<\/th>\n",
       "      <th>f2<\/th>\n",
       "    <\/tr>\n",
       "  <\/thead>\n",
       "  <tbody>\n",
       "    <tr>\n",
       "      <th>0<\/th>\n",
       "      <td>3.0<\/td>\n",
       "      <td>4.0<\/td>\n",
       "      <td>3<\/td>\n",
       "    <\/tr>\n",
       "    <tr>\n",
       "      <th>1<\/th>\n",
       "      <td>5.0<\/td>\n",
       "      <td>NaN<\/td>\n",
       "      <td>5<\/td>\n",
       "    <\/tr>\n",
       "    <tr>\n",
       "      <th>2<\/th>\n",
       "      <td>NaN<\/td>\n",
       "      <td>NaN<\/td>\n",
       "      <td>4<\/td>\n",
       "    <\/tr>\n",
       "  <\/tbody>\n",
       "<\/table>\n",
       "<\/div>"
      ]
     },
     "metadata":{
      
     },
     "output_type":"display_data"
    }
   ],
   "metadata":{
    "datalore":{
     "node_id":"abylHoKtuZzyMQSOiuMIKO",
     "type":"CODE",
     "hide_input_from_viewers":false,
     "hide_output_from_viewers":false
    }
   }
  },
  {
   "cell_type":"code",
   "source":[
    "mydataframe.dropna() #it is going to drop null or NaN values"
   ],
   "execution_count":7,
   "outputs":[
    {
     "data":{
      "text\/html":[
       "<div>\n",
       "<style scoped>\n",
       "    .dataframe tbody tr th:only-of-type {\n",
       "        vertical-align: middle;\n",
       "    }\n",
       "\n",
       "    .dataframe tbody tr th {\n",
       "        vertical-align: top;\n",
       "    }\n",
       "\n",
       "    .dataframe thead th {\n",
       "        text-align: right;\n",
       "    }\n",
       "<\/style>\n",
       "<table border=\"1\" class=\"dataframe\">\n",
       "  <thead>\n",
       "    <tr style=\"text-align: right;\">\n",
       "      <th><\/th>\n",
       "      <th>me<\/th>\n",
       "      <th>f1<\/th>\n",
       "      <th>f2<\/th>\n",
       "    <\/tr>\n",
       "  <\/thead>\n",
       "  <tbody>\n",
       "    <tr>\n",
       "      <th>0<\/th>\n",
       "      <td>3.0<\/td>\n",
       "      <td>4.0<\/td>\n",
       "      <td>3<\/td>\n",
       "    <\/tr>\n",
       "  <\/tbody>\n",
       "<\/table>\n",
       "<\/div>"
      ]
     },
     "metadata":{
      
     },
     "output_type":"display_data"
    }
   ],
   "metadata":{
    "datalore":{
     "node_id":"PvlIkibKdwel1iisH0Pv3a",
     "type":"CODE",
     "hide_input_from_viewers":false,
     "hide_output_from_viewers":false
    }
   }
  },
  {
   "cell_type":"code",
   "source":[
    "mydataframe.fillna(value=mydataframe['me'].mean()) "
   ],
   "execution_count":9,
   "outputs":[
    {
     "data":{
      "text\/html":[
       "<div>\n",
       "<style scoped>\n",
       "    .dataframe tbody tr th:only-of-type {\n",
       "        vertical-align: middle;\n",
       "    }\n",
       "\n",
       "    .dataframe tbody tr th {\n",
       "        vertical-align: top;\n",
       "    }\n",
       "\n",
       "    .dataframe thead th {\n",
       "        text-align: right;\n",
       "    }\n",
       "<\/style>\n",
       "<table border=\"1\" class=\"dataframe\">\n",
       "  <thead>\n",
       "    <tr style=\"text-align: right;\">\n",
       "      <th><\/th>\n",
       "      <th>me<\/th>\n",
       "      <th>f1<\/th>\n",
       "      <th>f2<\/th>\n",
       "    <\/tr>\n",
       "  <\/thead>\n",
       "  <tbody>\n",
       "    <tr>\n",
       "      <th>0<\/th>\n",
       "      <td>3.0<\/td>\n",
       "      <td>4.0<\/td>\n",
       "      <td>3<\/td>\n",
       "    <\/tr>\n",
       "    <tr>\n",
       "      <th>1<\/th>\n",
       "      <td>5.0<\/td>\n",
       "      <td>4.0<\/td>\n",
       "      <td>5<\/td>\n",
       "    <\/tr>\n",
       "    <tr>\n",
       "      <th>2<\/th>\n",
       "      <td>4.0<\/td>\n",
       "      <td>4.0<\/td>\n",
       "      <td>4<\/td>\n",
       "    <\/tr>\n",
       "  <\/tbody>\n",
       "<\/table>\n",
       "<\/div>"
      ]
     },
     "metadata":{
      
     },
     "output_type":"display_data"
    }
   ],
   "metadata":{
    "datalore":{
     "node_id":"JqyXPTGqs9cpgjvLphaK91",
     "type":"CODE",
     "hide_input_from_viewers":false,
     "hide_output_from_viewers":false
    }
   }
  },
  {
   "cell_type":"markdown",
   "source":[
    "It will take **`'me'`** column's values as reference and take mean of the values present in the column and **`replace`** that gained value **`to all the NaN of null `**"
   ],
   "attachments":{
    
   },
   "metadata":{
    "datalore":{
     "node_id":"QCA950JvuFGeQ2rTPKOcrM",
     "type":"MD",
     "hide_input_from_viewers":false,
     "hide_output_from_viewers":false
    }
   }
  },
  {
   "cell_type":"markdown",
   "source":[
    
   ],
   "attachments":{
    
   },
   "metadata":{
    "datalore":{
     "node_id":"hxeuM57gYXiMJv3ZaJDmJN",
     "type":"MD",
     "hide_input_from_viewers":false,
     "hide_output_from_viewers":false
    }
   }
  },
  {
   "cell_type":"markdown",
   "source":[
    "**`Merging`** the data and **`operations`**"
   ],
   "attachments":{
    
   },
   "metadata":{
    "datalore":{
     "node_id":"2xblmtmsMHos27NUYFP6Ha",
     "type":"MD",
     "hide_input_from_viewers":false,
     "hide_output_from_viewers":false
    }
   }
  },
  {
   "cell_type":"code",
   "source":[
    "newdata= {\n",
    "    'Movie':['Star-Wars','Star-Wars','Batman','Batman','Deadpool','Deadpool'],\n",
    "    'Viwers':['Me','Mf','MOF','Bobby','Dean','Sammy'],\n",
    "    'Ratings':[10,7,6,9,8,5]\n",
    "}"
   ],
   "execution_count":17,
   "outputs":[
    
   ],
   "metadata":{
    "datalore":{
     "node_id":"u9rlnbgR6fHAQEJAJc6ihv",
     "type":"CODE",
     "hide_input_from_viewers":false,
     "hide_output_from_viewers":false
    }
   }
  },
  {
   "cell_type":"code",
   "source":[
    "movies = pd.DataFrame(newdata)"
   ],
   "execution_count":18,
   "outputs":[
    
   ],
   "metadata":{
    "datalore":{
     "node_id":"aPSzUKujnhQi6eM36CmPPY",
     "type":"CODE",
     "hide_input_from_viewers":false,
     "hide_output_from_viewers":false
    }
   }
  },
  {
   "cell_type":"code",
   "source":[
    "movies"
   ],
   "execution_count":19,
   "outputs":[
    {
     "data":{
      "text\/html":[
       "<div>\n",
       "<style scoped>\n",
       "    .dataframe tbody tr th:only-of-type {\n",
       "        vertical-align: middle;\n",
       "    }\n",
       "\n",
       "    .dataframe tbody tr th {\n",
       "        vertical-align: top;\n",
       "    }\n",
       "\n",
       "    .dataframe thead th {\n",
       "        text-align: right;\n",
       "    }\n",
       "<\/style>\n",
       "<table border=\"1\" class=\"dataframe\">\n",
       "  <thead>\n",
       "    <tr style=\"text-align: right;\">\n",
       "      <th><\/th>\n",
       "      <th>Movie<\/th>\n",
       "      <th>Viwers<\/th>\n",
       "      <th>Ratings<\/th>\n",
       "    <\/tr>\n",
       "  <\/thead>\n",
       "  <tbody>\n",
       "    <tr>\n",
       "      <th>0<\/th>\n",
       "      <td>Star-Wars<\/td>\n",
       "      <td>Me<\/td>\n",
       "      <td>10<\/td>\n",
       "    <\/tr>\n",
       "    <tr>\n",
       "      <th>1<\/th>\n",
       "      <td>Star-Wars<\/td>\n",
       "      <td>Mf<\/td>\n",
       "      <td>7<\/td>\n",
       "    <\/tr>\n",
       "    <tr>\n",
       "      <th>2<\/th>\n",
       "      <td>Batman<\/td>\n",
       "      <td>MOF<\/td>\n",
       "      <td>6<\/td>\n",
       "    <\/tr>\n",
       "    <tr>\n",
       "      <th>3<\/th>\n",
       "      <td>Batman<\/td>\n",
       "      <td>Bobby<\/td>\n",
       "      <td>9<\/td>\n",
       "    <\/tr>\n",
       "    <tr>\n",
       "      <th>4<\/th>\n",
       "      <td>Deadpool<\/td>\n",
       "      <td>Dean<\/td>\n",
       "      <td>8<\/td>\n",
       "    <\/tr>\n",
       "    <tr>\n",
       "      <th>5<\/th>\n",
       "      <td>Deadpool<\/td>\n",
       "      <td>Sammy<\/td>\n",
       "      <td>5<\/td>\n",
       "    <\/tr>\n",
       "  <\/tbody>\n",
       "<\/table>\n",
       "<\/div>"
      ]
     },
     "metadata":{
      
     },
     "output_type":"display_data"
    }
   ],
   "metadata":{
    "datalore":{
     "node_id":"mpb8e7DRz0rS7H3P8wppsZ",
     "type":"CODE",
     "hide_input_from_viewers":false,
     "hide_output_from_viewers":false
    }
   }
  },
  {
   "cell_type":"code",
   "source":[
    "movies.groupby('Movie').mean()"
   ],
   "execution_count":21,
   "outputs":[
    {
     "data":{
      "text\/html":[
       "<div>\n",
       "<style scoped>\n",
       "    .dataframe tbody tr th:only-of-type {\n",
       "        vertical-align: middle;\n",
       "    }\n",
       "\n",
       "    .dataframe tbody tr th {\n",
       "        vertical-align: top;\n",
       "    }\n",
       "\n",
       "    .dataframe thead th {\n",
       "        text-align: right;\n",
       "    }\n",
       "<\/style>\n",
       "<table border=\"1\" class=\"dataframe\">\n",
       "  <thead>\n",
       "    <tr style=\"text-align: right;\">\n",
       "      <th><\/th>\n",
       "      <th>Ratings<\/th>\n",
       "    <\/tr>\n",
       "    <tr>\n",
       "      <th>Movie<\/th>\n",
       "      <th><\/th>\n",
       "    <\/tr>\n",
       "  <\/thead>\n",
       "  <tbody>\n",
       "    <tr>\n",
       "      <th>Batman<\/th>\n",
       "      <td>7.5<\/td>\n",
       "    <\/tr>\n",
       "    <tr>\n",
       "      <th>Deadpool<\/th>\n",
       "      <td>6.5<\/td>\n",
       "    <\/tr>\n",
       "    <tr>\n",
       "      <th>Star-Wars<\/th>\n",
       "      <td>8.5<\/td>\n",
       "    <\/tr>\n",
       "  <\/tbody>\n",
       "<\/table>\n",
       "<\/div>"
      ]
     },
     "metadata":{
      
     },
     "output_type":"display_data"
    }
   ],
   "metadata":{
    "datalore":{
     "node_id":"SQz1aKJEpo1WIdOQuxJfOE",
     "type":"CODE",
     "hide_input_from_viewers":false,
     "hide_output_from_viewers":false
    }
   }
  },
  {
   "cell_type":"code",
   "source":[
    "movies.groupby('Movie').sum()"
   ],
   "execution_count":22,
   "outputs":[
    {
     "data":{
      "text\/html":[
       "<div>\n",
       "<style scoped>\n",
       "    .dataframe tbody tr th:only-of-type {\n",
       "        vertical-align: middle;\n",
       "    }\n",
       "\n",
       "    .dataframe tbody tr th {\n",
       "        vertical-align: top;\n",
       "    }\n",
       "\n",
       "    .dataframe thead th {\n",
       "        text-align: right;\n",
       "    }\n",
       "<\/style>\n",
       "<table border=\"1\" class=\"dataframe\">\n",
       "  <thead>\n",
       "    <tr style=\"text-align: right;\">\n",
       "      <th><\/th>\n",
       "      <th>Ratings<\/th>\n",
       "    <\/tr>\n",
       "    <tr>\n",
       "      <th>Movie<\/th>\n",
       "      <th><\/th>\n",
       "    <\/tr>\n",
       "  <\/thead>\n",
       "  <tbody>\n",
       "    <tr>\n",
       "      <th>Batman<\/th>\n",
       "      <td>15<\/td>\n",
       "    <\/tr>\n",
       "    <tr>\n",
       "      <th>Deadpool<\/th>\n",
       "      <td>13<\/td>\n",
       "    <\/tr>\n",
       "    <tr>\n",
       "      <th>Star-Wars<\/th>\n",
       "      <td>17<\/td>\n",
       "    <\/tr>\n",
       "  <\/tbody>\n",
       "<\/table>\n",
       "<\/div>"
      ]
     },
     "metadata":{
      
     },
     "output_type":"display_data"
    }
   ],
   "metadata":{
    "datalore":{
     "node_id":"l5j6BnZDXl49lDiGjfDOea",
     "type":"CODE",
     "hide_input_from_viewers":false,
     "hide_output_from_viewers":false
    }
   }
  },
  {
   "cell_type":"code",
   "source":[
    "movies.groupby('Movie').std().iloc[2]"
   ],
   "execution_count":42,
   "outputs":[
    {
     "data":{
      "text\/html":[
       "<pre>Ratings    2.12132\n",
       "Name: Star-Wars, dtype: float64<\/pre>"
      ]
     },
     "metadata":{
      
     },
     "output_type":"display_data"
    }
   ],
   "metadata":{
    "datalore":{
     "node_id":"nmoQaqWzsXBBVw220lkUKc",
     "type":"CODE",
     "hide_input_from_viewers":false,
     "hide_output_from_viewers":false
    }
   }
  },
  {
   "cell_type":"markdown",
   "source":[
    
   ],
   "attachments":{
    
   },
   "metadata":{
    "datalore":{
     "node_id":"VnX8Uif4LHNBXaHvSqE0nP",
     "type":"MD",
     "hide_input_from_viewers":false,
     "hide_output_from_viewers":false
    }
   }
  },
  {
   "cell_type":"markdown",
   "source":[
    "**`Reading`** and **`writing`** files"
   ],
   "attachments":{
    
   },
   "metadata":{
    "datalore":{
     "node_id":"oyHeGuX0xVLaZS4xNGodgN",
     "type":"MD",
     "hide_input_from_viewers":false,
     "hide_output_from_viewers":false
    }
   }
  },
  {
   "cell_type":"code",
   "source":[
    "df = pd.read_csv('\/data\/notebook_files\/Demo.csv')\n",
    "df"
   ],
   "execution_count":49,
   "outputs":[
    {
     "data":{
      "text\/html":[
       "<div>\n",
       "<style scoped>\n",
       "    .dataframe tbody tr th:only-of-type {\n",
       "        vertical-align: middle;\n",
       "    }\n",
       "\n",
       "    .dataframe tbody tr th {\n",
       "        vertical-align: top;\n",
       "    }\n",
       "\n",
       "    .dataframe thead th {\n",
       "        text-align: right;\n",
       "    }\n",
       "<\/style>\n",
       "<table border=\"1\" class=\"dataframe\">\n",
       "  <thead>\n",
       "    <tr style=\"text-align: right;\">\n",
       "      <th><\/th>\n",
       "      <th>1<\/th>\n",
       "      <th>2<\/th>\n",
       "      <th>3<\/th>\n",
       "    <\/tr>\n",
       "  <\/thead>\n",
       "  <tbody>\n",
       "    <tr>\n",
       "      <th>0<\/th>\n",
       "      <td>11<\/td>\n",
       "      <td>22<\/td>\n",
       "      <td>33<\/td>\n",
       "    <\/tr>\n",
       "    <tr>\n",
       "      <th>1<\/th>\n",
       "      <td>111<\/td>\n",
       "      <td>222<\/td>\n",
       "      <td>333<\/td>\n",
       "    <\/tr>\n",
       "    <tr>\n",
       "      <th>2<\/th>\n",
       "      <td>1111<\/td>\n",
       "      <td>2222<\/td>\n",
       "      <td>3333<\/td>\n",
       "    <\/tr>\n",
       "    <tr>\n",
       "      <th>3<\/th>\n",
       "      <td>11111<\/td>\n",
       "      <td>22222<\/td>\n",
       "      <td>33333<\/td>\n",
       "    <\/tr>\n",
       "  <\/tbody>\n",
       "<\/table>\n",
       "<\/div>"
      ]
     },
     "metadata":{
      
     },
     "output_type":"display_data"
    }
   ],
   "metadata":{
    "datalore":{
     "node_id":"lv6IUUicEtelX34AtKsfMw",
     "type":"CODE",
     "hide_input_from_viewers":false,
     "hide_output_from_viewers":false
    }
   }
  },
  {
   "cell_type":"code",
   "source":[
    "#to export the above file  = df.to_csv('new_demo.csv',index=False)"
   ],
   "execution_count":null,
   "outputs":[
    
   ],
   "metadata":{
    "datalore":{
     "node_id":"qT0D7YMb0C0dkSCAO39u4G",
     "type":"CODE",
     "hide_input_from_viewers":false,
     "hide_output_from_viewers":false
    }
   }
  },
  {
   "cell_type":"code",
   "source":[
    "df.to_csv('new_demo.csv',index=False)"
   ],
   "execution_count":50,
   "outputs":[
    
   ],
   "metadata":{
    "datalore":{
     "node_id":"xWR23QVk3mPZgiIohSXmjK",
     "type":"CODE",
     "hide_input_from_viewers":false,
     "hide_output_from_viewers":false
    }
   }
  },
  {
   "cell_type":"code",
   "source":[
    "dt=pd.read_csv('new_demo.csv')\n",
    "dt"
   ],
   "execution_count":52,
   "outputs":[
    {
     "data":{
      "text\/html":[
       "<div>\n",
       "<style scoped>\n",
       "    .dataframe tbody tr th:only-of-type {\n",
       "        vertical-align: middle;\n",
       "    }\n",
       "\n",
       "    .dataframe tbody tr th {\n",
       "        vertical-align: top;\n",
       "    }\n",
       "\n",
       "    .dataframe thead th {\n",
       "        text-align: right;\n",
       "    }\n",
       "<\/style>\n",
       "<table border=\"1\" class=\"dataframe\">\n",
       "  <thead>\n",
       "    <tr style=\"text-align: right;\">\n",
       "      <th><\/th>\n",
       "      <th>1<\/th>\n",
       "      <th>2<\/th>\n",
       "      <th>3<\/th>\n",
       "    <\/tr>\n",
       "  <\/thead>\n",
       "  <tbody>\n",
       "    <tr>\n",
       "      <th>0<\/th>\n",
       "      <td>11<\/td>\n",
       "      <td>22<\/td>\n",
       "      <td>33<\/td>\n",
       "    <\/tr>\n",
       "    <tr>\n",
       "      <th>1<\/th>\n",
       "      <td>111<\/td>\n",
       "      <td>222<\/td>\n",
       "      <td>333<\/td>\n",
       "    <\/tr>\n",
       "    <tr>\n",
       "      <th>2<\/th>\n",
       "      <td>1111<\/td>\n",
       "      <td>2222<\/td>\n",
       "      <td>3333<\/td>\n",
       "    <\/tr>\n",
       "    <tr>\n",
       "      <th>3<\/th>\n",
       "      <td>11111<\/td>\n",
       "      <td>22222<\/td>\n",
       "      <td>33333<\/td>\n",
       "    <\/tr>\n",
       "  <\/tbody>\n",
       "<\/table>\n",
       "<\/div>"
      ]
     },
     "metadata":{
      
     },
     "output_type":"display_data"
    }
   ],
   "metadata":{
    "datalore":{
     "node_id":"3GKONe5Tth7jHr3Ke4R52Q",
     "type":"CODE",
     "hide_input_from_viewers":false,
     "hide_output_from_viewers":false
    }
   }
  },
  {
   "cell_type":"code",
   "source":[
    
   ],
   "execution_count":null,
   "outputs":[
    
   ],
   "metadata":{
    "datalore":{
     "node_id":"vuknVttv6CzsAzcOL5OH4x",
     "type":"CODE",
     "hide_input_from_viewers":false,
     "hide_output_from_viewers":false
    }
   }
  }
 ],
 "metadata":{
  "kernelspec":{
   "display_name":"Python",
   "language":"python",
   "name":"python"
  },
  "datalore":{
   "version":1,
   "computation_mode":"JUPYTER",
   "package_manager":"pip",
   "base_environment":"default",
   "packages":[
    
   ]
  }
 },
 "nbformat":4,
 "nbformat_minor":4
}